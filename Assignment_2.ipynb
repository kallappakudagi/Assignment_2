{
 "cells": [
  {
   "cell_type": "markdown",
   "id": "37b93598-2809-45e8-bbbf-69eb54939eb0",
   "metadata": {},
   "source": [
    "Q1. How do you comment code in Python? What are the different types of comments?"
   ]
  },
  {
   "cell_type": "code",
   "execution_count": null,
   "id": "127a5ffe-b3ea-41cc-854b-6d91bf998bbe",
   "metadata": {},
   "outputs": [],
   "source": [
    "#Ans-If we have multilple lines to comment we can use Triple quotes and # for single line comment\n",
    "#1]Triple quotes for multiple line comments\n",
    "#2]Hash(#)for single line comment"
   ]
  },
  {
   "cell_type": "markdown",
   "id": "8f52d485-2f08-44f5-a567-c59b5702bfb9",
   "metadata": {},
   "source": [
    "Q2. What are variables in Python? How do you declare and assign values to variables?"
   ]
  },
  {
   "cell_type": "code",
   "execution_count": null,
   "id": "c60fa1ce-5ff0-4e87-a91e-bac703a1c3a1",
   "metadata": {},
   "outputs": [],
   "source": [
    "#Ans- a veriable is a string of charcters and numbers to store  the information related to it.\n",
    "#'=' symble is used to assign values to veriable\n",
    "\n",
    "#ex- name='pw skills'"
   ]
  },
  {
   "cell_type": "markdown",
   "id": "02f06556-e48d-4e8b-98a0-09ea7783055e",
   "metadata": {},
   "source": [
    "Q3. How do you convert one data type to another in Python?"
   ]
  },
  {
   "cell_type": "code",
   "execution_count": null,
   "id": "a52c4397-8379-48d6-8ee1-a9c28ae060ed",
   "metadata": {},
   "outputs": [],
   "source": [
    "#Ans-by usimg typecasting we can convert one data type to another\n",
    "#ex-"
   ]
  },
  {
   "cell_type": "code",
   "execution_count": 5,
   "id": "98d270a3-4fa1-40c7-b076-4e43f5df26dc",
   "metadata": {},
   "outputs": [
    {
     "name": "stdout",
     "output_type": "stream",
     "text": [
      "value: kallu87\n",
      "Data type: <class 'str'>\n"
     ]
    }
   ],
   "source": [
    "name='kallu'\n",
    "Num=87\n",
    "\n",
    "NewName=name+str(Num)\n",
    "print(\"value:\",NewName)\n",
    "print(\"Data type:\",type(NewName))\n",
    "\n",
    "#Here we have converted 'int' to 'str' data type by typecasting"
   ]
  },
  {
   "cell_type": "markdown",
   "id": "27301b8e-4f1c-464a-998d-172f6c145c7b",
   "metadata": {},
   "source": [
    "4. How do you write and execute a Python script from the command line?\n",
    "\n"
   ]
  },
  {
   "cell_type": "code",
   "execution_count": null,
   "id": "f814a8ae-250b-4f45-bd6d-7aea62495ad7",
   "metadata": {},
   "outputs": [],
   "source": [
    "#Ans- FIrst we have to open python commond line and then type python followed by path pf the script then press enter."
   ]
  },
  {
   "cell_type": "markdown",
   "id": "f59bfcfd-cd6b-491f-95d6-eed4666248c3",
   "metadata": {},
   "source": [
    "5. Given a list my_list = [1, 2, 3, 4, 5], write the code to slice the list and obtain the sub-list [2, 3].\n",
    "\n"
   ]
  },
  {
   "cell_type": "code",
   "execution_count": 6,
   "id": "7826f2c0-81cf-43f1-891e-caa61bab331c",
   "metadata": {},
   "outputs": [
    {
     "name": "stdout",
     "output_type": "stream",
     "text": [
      "[2, 3]\n"
     ]
    }
   ],
   "source": [
    "my_list = [1, 2, 3, 4, 5]\n",
    "sliced_lst=my_list[1:3]\n",
    "print(sliced_lst)"
   ]
  },
  {
   "cell_type": "markdown",
   "id": "f4ebc52d-4b15-4db1-95f5-cfcde884afc9",
   "metadata": {},
   "source": [
    "Q6. What is a complex number in mathematics, and how is it represented in Python?"
   ]
  },
  {
   "cell_type": "code",
   "execution_count": 13,
   "id": "608acaa1-b7ef-4427-aac0-150b3cdb22f7",
   "metadata": {},
   "outputs": [
    {
     "name": "stdout",
     "output_type": "stream",
     "text": [
      "(2+3j)\n"
     ]
    }
   ],
   "source": [
    "#Ans- Complex are combination of two real numbers and an imaginary number\n",
    "#Ex- A=2+3j where 2 and 3 are real numbers and 'j' isimaginary numbers which is the square root of -1.\n",
    "\n",
    "A=complex(2,3)\n",
    "print(A)"
   ]
  },
  {
   "cell_type": "code",
   "execution_count": 14,
   "id": "ecf878ac-43f3-4b47-9c15-2655e9d05fb6",
   "metadata": {},
   "outputs": [
    {
     "name": "stdout",
     "output_type": "stream",
     "text": [
      "(3+6j)\n"
     ]
    }
   ],
   "source": [
    "B=complex(3.,6)\n",
    "print(B)"
   ]
  },
  {
   "cell_type": "markdown",
   "id": "e43a39a0-305f-4331-ac08-a6cde6de4671",
   "metadata": {},
   "source": [
    "7. What is the correct way to declare a variable named age and assign the value 25 to it?"
   ]
  },
  {
   "cell_type": "code",
   "execution_count": null,
   "id": "3b603987-6d28-45d4-a933-04612731a5b6",
   "metadata": {},
   "outputs": [],
   "source": [
    "#Ans-age=25\n",
    "\n",
    "#Here = assigns the value on the right and veriable name on the left"
   ]
  },
  {
   "cell_type": "markdown",
   "id": "4bcf76ed-8725-49c1-8179-968bdd6ef71d",
   "metadata": {},
   "source": [
    "8. Declare a variable named price and assign the value 9.99 to it. What data type does this variable \n",
    "belong to?"
   ]
  },
  {
   "cell_type": "code",
   "execution_count": 15,
   "id": "f399ac24-cfe8-4cb1-b4fc-deaa62324789",
   "metadata": {},
   "outputs": [
    {
     "data": {
      "text/plain": [
       "float"
      ]
     },
     "execution_count": 15,
     "metadata": {},
     "output_type": "execute_result"
    }
   ],
   "source": [
    "#Ans\n",
    "price=9.99\n",
    "type(price)\n",
    "#Data type is float"
   ]
  },
  {
   "cell_type": "markdown",
   "id": "e682243f-ed99-44f3-8fc9-628e980f9c64",
   "metadata": {},
   "source": [
    "9. Create a variable named name and assign your full name to it as a string. How would you print the \n",
    "value of this variable?"
   ]
  },
  {
   "cell_type": "code",
   "execution_count": 16,
   "id": "c862b5d6-80df-4958-b1bf-b125ce774616",
   "metadata": {},
   "outputs": [
    {
     "name": "stdout",
     "output_type": "stream",
     "text": [
      "kallappa kudagi\n"
     ]
    }
   ],
   "source": [
    "name='kallappa kudagi'\n",
    "print(name)\n",
    "\n",
    "# By using the print statement we can print the values "
   ]
  },
  {
   "cell_type": "markdown",
   "id": "05cb0394-3f6e-4ead-bd98-49aff049fc84",
   "metadata": {},
   "source": [
    "Q10. Given the string \"Hello, World!\", extract the substring \"World\"."
   ]
  },
  {
   "cell_type": "code",
   "execution_count": 9,
   "id": "f40e43fc-1860-4af5-b076-90ce9e8249a1",
   "metadata": {},
   "outputs": [
    {
     "name": "stdout",
     "output_type": "stream",
     "text": [
      "World\n"
     ]
    }
   ],
   "source": [
    "#Ans\n",
    "str1=(\"Hello World!\")\n",
    "print(str1[6:11])"
   ]
  },
  {
   "cell_type": "markdown",
   "id": "763d5325-9687-4640-9173-de4f43270a35",
   "metadata": {},
   "source": [
    "Q11. Create a variable named \"is_student\" and assign it a boolean value indicating whether you are \n",
    "currently a student or not."
   ]
  },
  {
   "cell_type": "code",
   "execution_count": 10,
   "id": "8849afc5-c67b-423a-ad36-c99f33b2fe94",
   "metadata": {},
   "outputs": [
    {
     "name": "stdout",
     "output_type": "stream",
     "text": [
      "False\n"
     ]
    }
   ],
   "source": [
    "is_student=False\n",
    "print(is_student)\n",
    "## True means 'is a students' and False means 'not a student'"
   ]
  }
 ],
 "metadata": {
  "kernelspec": {
   "display_name": "Python 3 (ipykernel)",
   "language": "python",
   "name": "python3"
  },
  "language_info": {
   "codemirror_mode": {
    "name": "ipython",
    "version": 3
   },
   "file_extension": ".py",
   "mimetype": "text/x-python",
   "name": "python",
   "nbconvert_exporter": "python",
   "pygments_lexer": "ipython3",
   "version": "3.10.8"
  }
 },
 "nbformat": 4,
 "nbformat_minor": 5
}
